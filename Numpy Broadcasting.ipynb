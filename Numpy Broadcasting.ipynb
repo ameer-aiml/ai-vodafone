{
 "cells": [
  {
   "cell_type": "code",
   "execution_count": null,
   "id": "a72f81d1",
   "metadata": {},
   "outputs": [],
   "source": [
    "# Weight = 100 pounds / 45 kgs\n",
    "# Height = 61 inches / 1.4945 m"
   ]
  },
  {
   "cell_type": "code",
   "execution_count": 11,
   "id": "71836c74",
   "metadata": {},
   "outputs": [
    {
     "name": "stdout",
     "output_type": "stream",
     "text": [
      "1.4945000000000002\n",
      "45.0\n"
     ]
    }
   ],
   "source": [
    "print(61*0.0245)\n",
    "print(100*0.45)"
   ]
  },
  {
   "cell_type": "code",
   "execution_count": 7,
   "id": "09142ee2",
   "metadata": {},
   "outputs": [
    {
     "data": {
      "text/plain": [
       "20.14747729519222"
      ]
     },
     "execution_count": 7,
     "metadata": {},
     "output_type": "execute_result"
    }
   ],
   "source": [
    "45/(1.4945*1.4945)"
   ]
  },
  {
   "cell_type": "code",
   "execution_count": 2,
   "id": "48a6f097",
   "metadata": {},
   "outputs": [
    {
     "data": {
      "text/plain": [
       "array([1.4945, 1.5925, 1.5435, 1.6905, 1.715 , 1.7885, 1.666 , 1.568 ,\n",
       "       1.5435, 1.519 , 1.617 ])"
      ]
     },
     "execution_count": 2,
     "metadata": {},
     "output_type": "execute_result"
    }
   ],
   "source": [
    "#Broadcasting of array elements for arithmetics\n",
    "\n",
    "#Calculate BMI of cricket\n",
    "import numpy as np\n",
    "#Heights of the players in inches \n",
    "height_inches = [61,65,63,69,70,73,68,64,63,62,66]\n",
    "\n",
    "#Convert this to numpy array\n",
    "ht_np = np.array(height_inches)\n",
    "# ht_np\n",
    "#Convert height from inch to meters by exposing it to 0.0245\n",
    "ht_np = ht_np * 0.0245\n",
    "ht_np"
   ]
  },
  {
   "cell_type": "code",
   "execution_count": 3,
   "id": "a06554fa",
   "metadata": {},
   "outputs": [
    {
     "data": {
      "text/plain": [
       "array([45.  , 90.  , 72.  , 81.  , 63.  , 69.75, 74.25, 77.4 , 81.  ,\n",
       "       90.  , 75.6 ])"
      ]
     },
     "execution_count": 3,
     "metadata": {},
     "output_type": "execute_result"
    }
   ],
   "source": [
    "#Weight of players in pounds\n",
    "weight_pounds = [100,200,160,180,140,155,165,172,180,200,168]\n",
    "\n",
    "#Convert this to numpy array\n",
    "wt_np = np.array(weight_pounds)\n",
    "\n",
    "#Convert weight from pounds to kgs by exposing it to 0.45\n",
    "wt_np = wt_np * 0.45\n",
    "wt_np"
   ]
  },
  {
   "cell_type": "code",
   "execution_count": 4,
   "id": "82a8c5a2",
   "metadata": {},
   "outputs": [
    {
     "data": {
      "text/plain": [
       "array([20.1474773 , 35.48817184, 30.22172356, 28.3435777 , 21.41964658,\n",
       "       21.80551373, 26.75139684, 31.48102353, 33.99943901, 39.0055999 ,\n",
       "       28.91357251])"
      ]
     },
     "execution_count": 4,
     "metadata": {},
     "output_type": "execute_result"
    }
   ],
   "source": [
    "#BMI Calculation\n",
    "# formula - bmi = weight in kgs / (height in meters ** 2)\n",
    "bmi = wt_np / (ht_np ** 2)\n",
    "bmi"
   ]
  },
  {
   "cell_type": "code",
   "execution_count": 5,
   "id": "90be431c",
   "metadata": {},
   "outputs": [
    {
     "data": {
      "text/plain": [
       "array([20.1474773])"
      ]
     },
     "execution_count": 5,
     "metadata": {},
     "output_type": "execute_result"
    }
   ],
   "source": [
    "#Boolean based subsetting - try to get players with BMI less than 21\n",
    "bmi[bmi < 21]"
   ]
  },
  {
   "cell_type": "code",
   "execution_count": null,
   "id": "08970703",
   "metadata": {},
   "outputs": [],
   "source": []
  }
 ],
 "metadata": {
  "kernelspec": {
   "display_name": "Python 3 (ipykernel)",
   "language": "python",
   "name": "python3"
  },
  "language_info": {
   "codemirror_mode": {
    "name": "ipython",
    "version": 3
   },
   "file_extension": ".py",
   "mimetype": "text/x-python",
   "name": "python",
   "nbconvert_exporter": "python",
   "pygments_lexer": "ipython3",
   "version": "3.9.7"
  }
 },
 "nbformat": 4,
 "nbformat_minor": 5
}
