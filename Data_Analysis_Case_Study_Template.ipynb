{
  "nbformat": 4,
  "nbformat_minor": 0,
  "metadata": {
    "kernelspec": {
      "display_name": "Python 3",
      "language": "python",
      "name": "python3"
    },
    "language_info": {
      "codemirror_mode": {
        "name": "ipython",
        "version": 3
      },
      "file_extension": ".py",
      "mimetype": "text/x-python",
      "name": "python",
      "nbconvert_exporter": "python",
      "pygments_lexer": "ipython3",
      "version": "3.7.1"
    },
    "colab": {
      "name": "Data Analysis Case Study - Template.ipynb",
      "provenance": []
    }
  },
  "cells": [
    {
      "cell_type": "code",
      "metadata": {
        "id": "AdcZNoE3VgdU"
      },
      "source": [
        "#Importing essential packages\n",
        "import numpy as np\n",
        "import pandas as pd #the most\n",
        "import matplotlib.pyplot as plt"
      ],
      "execution_count": null,
      "outputs": []
    },
    {
      "cell_type": "code",
      "metadata": {
        "id": "TNX6ySJtVgdl"
      },
      "source": [
        "#Importing the data and taking a look at it\n",
        "data = pd.read_csv(\"https://raw.githubusercontent.com/ameer-fice/ai-vodafone/main/datasets/car_data.csv\")\n",
        "data"
      ],
      "execution_count": null,
      "outputs": []
    },
    {
      "cell_type": "markdown",
      "metadata": {
        "id": "AvJIcE4Vn9fM"
      },
      "source": [
        "\n",
        "# 1. From which manufacturing year to which manufacturing year vehicles are present in this data ?\n"
      ]
    },
    {
      "cell_type": "code",
      "metadata": {
        "id": "znh0DQLTdZlU"
      },
      "source": [
        ""
      ],
      "execution_count": null,
      "outputs": []
    },
    {
      "cell_type": "markdown",
      "metadata": {
        "id": "2CmVuxBMoHhS"
      },
      "source": [
        "#2. What is the lowest price to which a vehicle is sold ?\n"
      ]
    },
    {
      "cell_type": "code",
      "metadata": {
        "id": "ppSf3WYf3zrp"
      },
      "source": [
        ""
      ],
      "execution_count": null,
      "outputs": []
    },
    {
      "cell_type": "markdown",
      "metadata": {
        "id": "EgBLBCvUorjV"
      },
      "source": [
        "#3. What is the highest price to which a vehicle is sold ?\n"
      ]
    },
    {
      "cell_type": "code",
      "metadata": {
        "id": "lNogDyJm30GY"
      },
      "source": [
        ""
      ],
      "execution_count": null,
      "outputs": []
    },
    {
      "cell_type": "markdown",
      "metadata": {
        "id": "ms4STyG6o2-l"
      },
      "source": [
        "# 4. How many records are there?\n"
      ]
    },
    {
      "cell_type": "code",
      "metadata": {
        "id": "LTkBxxgP30kf"
      },
      "source": [
        ""
      ],
      "execution_count": null,
      "outputs": []
    },
    {
      "cell_type": "markdown",
      "metadata": {
        "id": "eF7bP1BtpFZ-"
      },
      "source": [
        "#5. Are there any missing records in this data ?\n"
      ]
    },
    {
      "cell_type": "code",
      "metadata": {
        "id": "bvNReL8rLepH"
      },
      "source": [
        ""
      ],
      "execution_count": null,
      "outputs": []
    },
    {
      "cell_type": "markdown",
      "metadata": {
        "id": "Fbse2IGmpcNN"
      },
      "source": [
        "# 6. How many different vehicles are present in this data ?\n"
      ]
    },
    {
      "cell_type": "code",
      "metadata": {
        "id": "kkf8ROZB31Q_"
      },
      "source": [
        ""
      ],
      "execution_count": null,
      "outputs": []
    },
    {
      "cell_type": "markdown",
      "metadata": {
        "id": "eaxfUGLBqutb"
      },
      "source": [
        "#8.Does the database include any CNG vehicle ? If yes how many of them are there ?\n"
      ]
    },
    {
      "cell_type": "code",
      "metadata": {
        "id": "n6WTcTysdnp4"
      },
      "source": [
        ""
      ],
      "execution_count": null,
      "outputs": []
    },
    {
      "cell_type": "markdown",
      "metadata": {
        "id": "qqP3V_ABrKRh"
      },
      "source": [
        "# 9. How many vehicles here are for sell from Individuals directly ?\n"
      ]
    },
    {
      "cell_type": "code",
      "metadata": {
        "id": "DQn14eQgdvcg"
      },
      "source": [
        ""
      ],
      "execution_count": null,
      "outputs": []
    },
    {
      "cell_type": "markdown",
      "metadata": {
        "id": "nMZuOWA1rvVg"
      },
      "source": [
        "#10. Does this database contain auto transmission vehicles ? If yes how many of them are there ?\n"
      ]
    },
    {
      "cell_type": "code",
      "metadata": {
        "id": "q3uhkbkidwph"
      },
      "source": [
        ""
      ],
      "execution_count": null,
      "outputs": []
    },
    {
      "cell_type": "markdown",
      "metadata": {
        "id": "ZTxGSC-asFyT"
      },
      "source": [
        "# 11. How many single person owned vehicles are there in this database ?\n"
      ]
    },
    {
      "cell_type": "code",
      "metadata": {
        "id": "JJmyqkWKdxir"
      },
      "source": [
        ""
      ],
      "execution_count": null,
      "outputs": []
    },
    {
      "cell_type": "markdown",
      "metadata": {
        "id": "eqAMg8kA3P_X"
      },
      "source": [
        "# 12. Which is the most and least cost depreciated vehicle in data ?\n"
      ]
    },
    {
      "cell_type": "code",
      "metadata": {
        "id": "ASzSUUqwdyFJ"
      },
      "source": [
        ""
      ],
      "execution_count": null,
      "outputs": []
    },
    {
      "cell_type": "markdown",
      "metadata": {
        "id": "EDR1oRRl3SDM"
      },
      "source": [
        "# 13. Which brands of vehicles are less affected by cost depreciation ?\n"
      ]
    },
    {
      "cell_type": "code",
      "metadata": {
        "id": "qmQ3zh9_dyot"
      },
      "source": [
        ""
      ],
      "execution_count": null,
      "outputs": []
    },
    {
      "cell_type": "markdown",
      "metadata": {
        "id": "HE6M0LJ-vJZA"
      },
      "source": [
        "# 14. Can we get idea about newest vehicles i.e. after 2014 manufactured ?\n"
      ]
    },
    {
      "cell_type": "code",
      "metadata": {
        "id": "IJ8NiNBTdzCx"
      },
      "source": [
        ""
      ],
      "execution_count": null,
      "outputs": []
    },
    {
      "cell_type": "markdown",
      "metadata": {
        "id": "UJ79zzSq3mf4"
      },
      "source": [
        "# 15. Can we find out data of only two wheelers from this data ?"
      ]
    },
    {
      "cell_type": "code",
      "metadata": {
        "id": "snNMy7UndzeZ"
      },
      "source": [
        ""
      ],
      "execution_count": null,
      "outputs": []
    },
    {
      "cell_type": "markdown",
      "metadata": {
        "id": "rRXS3LwywpiC"
      },
      "source": [
        "# Exceptional data is called as outliers\n"
      ]
    },
    {
      "cell_type": "code",
      "metadata": {
        "id": "Wr_eOBHQRqwc"
      },
      "source": [
        ""
      ],
      "execution_count": null,
      "outputs": []
    }
  ]
}